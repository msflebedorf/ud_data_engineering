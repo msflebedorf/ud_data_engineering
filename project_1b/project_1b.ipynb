{
 "cells": [
  {
   "cell_type": "markdown",
   "metadata": {
    "ExecuteTime": {
     "end_time": "2019-09-27T23:01:05.250119Z",
     "start_time": "2019-09-27T23:01:05.246947Z"
    }
   },
   "source": [
    "### Sparkify Analysis Queries using Cassandra\n"
   ]
  },
  {
   "cell_type": "markdown",
   "metadata": {},
   "source": [
    "#### Prepared by Robin Fladebo, September 2019\n",
    "\n",
    "### Purpose: Use Cassandra to query the history from the Sparkify music application."
   ]
  },
  {
   "cell_type": "code",
   "execution_count": 1,
   "metadata": {
    "ExecuteTime": {
     "end_time": "2019-09-28T00:19:24.784754Z",
     "start_time": "2019-09-28T00:19:24.690103Z"
    }
   },
   "outputs": [],
   "source": [
    "# Import Python packages\n",
    "import cassandra\n",
    "import os\n",
    "import glob\n",
    "import csv"
   ]
  },
  {
   "cell_type": "markdown",
   "metadata": {},
   "source": [
    "### Process input files (code supplied by Udacity)"
   ]
  },
  {
   "cell_type": "code",
   "execution_count": 2,
   "metadata": {},
   "outputs": [
    {
     "name": "stdout",
     "output_type": "stream",
     "text": [
      "/home/workspace\n"
     ]
    }
   ],
   "source": [
    "# Create a list of filepaths to process original event csv data files\n",
    "\n",
    "# Check current working directory\n",
    "print(os.getcwd())\n",
    "\n",
    "# Get the current folder and subfolder containing event data\n",
    "filepath = os.getcwd() + '/event_data'\n",
    "\n",
    "# Use a for loop to create a list of files and collect each filepath\n",
    "for root, dirs, files in os.walk(filepath):\n",
    "    # Join the file path and root path with the subdirectories using glob\n",
    "    file_path_list = glob.glob(os.path.join(root,'*'))\n",
    "\n",
    "# Process the files to create the comma-separated data file that will be\n",
    "# used for Apache Casssandra tables\n",
    "\n",
    "# Initiate an empty list of rows to be generated from each file\n",
    "full_data_rows_list = []\n",
    "\n",
    "# Read every file in the file path list\n",
    "for f in file_path_list:\n",
    "    with open(f, 'r', encoding='utf8', newline='') as csvfile:\n",
    "        # creating a csv reader object\n",
    "        csvreader = csv.reader(csvfile)\n",
    "        next(csvreader)\n",
    "        # Append each line in the file to the full list of rows        \n",
    "        for line in csvreader:\n",
    "            full_data_rows_list.append(line)\n",
    "\n",
    "csv.register_dialect('myDialect', quoting=csv.QUOTE_ALL,\n",
    "    skipinitialspace=True)\n",
    "\n",
    "with open('event_datafile_new.csv', 'w', encoding='utf8', \n",
    "newline='') as f:\n",
    "    writer = csv.writer(f, dialect='myDialect')\n",
    "    writer.writerow(['artist_name', 'user_first_name', 'user_gender', 'item_in_session',\n",
    "                     'user_last_name','song_length', 'user_level','location','session_id',\n",
    "                     'song_title','user_id'])\n",
    "    for row in full_data_rows_list:\n",
    "        if (row[0] == ''):\n",
    "            continue\n",
    "        writer.writerow((row[0], row[2], row[3], row[4], row[5], row[6], \n",
    "                         row[7], row[8], row[12], row[13], row[16]))"
   ]
  },
  {
   "cell_type": "code",
   "execution_count": 3,
   "metadata": {},
   "outputs": [
    {
     "name": "stdout",
     "output_type": "stream",
     "text": [
      "6821\n"
     ]
    }
   ],
   "source": [
    "# Report the number of rows in the csv file\n",
    "with open('event_datafile_new.csv', 'r', encoding = 'utf8') as f:\n",
    "    print(sum(1 for line in f))"
   ]
  },
  {
   "cell_type": "markdown",
   "metadata": {},
   "source": [
    "### Create and connect to Cassandra cluster, session and keyspace. Keyspace name is sparkify."
   ]
  },
  {
   "cell_type": "code",
   "execution_count": 4,
   "metadata": {},
   "outputs": [],
   "source": [
    "# Connect to a Cassandra instance\n",
    "from cassandra.cluster import Cluster\n",
    "cluster = Cluster()\n",
    "\n",
    "# Initiate a session\n",
    "session = cluster.connect()\n",
    "\n",
    "# Create a keyspace for sparkify\n",
    "try:\n",
    "    session.execute(\"\"\"\n",
    "    CREATE KEYSPACE IF NOT EXISTS sparkify \n",
    "    WITH REPLICATION = \n",
    "    { 'class' : 'SimpleStrategy', 'replication_factor' : 1 }\"\"\"\n",
    ")\n",
    "except Exception as e:\n",
    "    print(e)\n",
    "    \n",
    "# Connect to the keyspace for sparkify\n",
    "try:\n",
    "    session.set_keyspace('sparkify')\n",
    "except Exception as e:\n",
    "    print(e)"
   ]
  },
  {
   "cell_type": "markdown",
   "metadata": {
    "ExecuteTime": {
     "end_time": "2019-09-27T23:03:08.548342Z",
     "start_time": "2019-09-27T23:03:08.544628Z"
    }
   },
   "source": [
    "### Create tables and insert data"
   ]
  },
  {
   "cell_type": "markdown",
   "metadata": {},
   "source": [
    "The music_history_session table is designed to support queries that select based on session ID and item within session. Specifically: From the music app history file, show the artist, song title and song length that was played as item 4 in session 338."
   ]
  },
  {
   "cell_type": "code",
   "execution_count": 5,
   "metadata": {},
   "outputs": [],
   "source": [
    "# Create history_session table\n",
    "create = \"CREATE TABLE IF NOT EXISTS history_session \"\n",
    "create = create + \"(session_id int, item_in_session int, artist_name text, song_title text, song_length float, PRIMARY KEY (session_id, item_in_session))\"\n",
    "try:\n",
    "    session.execute(create)\n",
    "except Exception as e:\n",
    "    print(e)"
   ]
  },
  {
   "cell_type": "code",
   "execution_count": 6,
   "metadata": {},
   "outputs": [],
   "source": [
    "file = 'event_datafile_new.csv'"
   ]
  },
  {
   "cell_type": "code",
   "execution_count": 7,
   "metadata": {},
   "outputs": [],
   "source": [
    "# Insert data to the history_session table\n",
    "with open(file, encoding = 'utf8') as f:\n",
    "    csvreader = csv.reader(f)\n",
    "    next(csvreader) # skip header\n",
    "    for line in csvreader:\n",
    "        ins = \"INSERT INTO history_session (session_id, item_in_session, artist_name, song_title, song_length) \"\n",
    "        ins = ins + \"VALUES (%s, %s, %s, %s, %s)\"\n",
    "        session.execute(ins, (int(line[8]), int(line[3]), line[0], \n",
    "            line[9], float(line[5])))"
   ]
  },
  {
   "cell_type": "markdown",
   "metadata": {},
   "source": [
    "The history_session_user table is designed to support queries that select based on user ID and session ID. Specifically: Return the name of the artist, song title and first and last name of the user for userid = 10, sessionid = 182; sort by item in session."
   ]
  },
  {
   "cell_type": "code",
   "execution_count": 8,
   "metadata": {},
   "outputs": [],
   "source": [
    "# Create history_session_user table\n",
    "# Compound partition key will determine how data is divided among nodes. Clustering key will determine how data is \n",
    "# sorted within a partition (Reference: https://stackoverflow.com/questions/24949676  dated 2014)\n",
    "create = \"CREATE TABLE IF NOT EXISTS history_session_user \"\n",
    "create = create + \"(user_id int, session_id int, item_in_session int, artist_name text, song_title text, user_first_name text, user_last_name text, PRIMARY KEY ((user_id, session_id), item_in_session))\"\n",
    "try:\n",
    "    session.execute(create)\n",
    "except Exception as e:\n",
    "    print(e)"
   ]
  },
  {
   "cell_type": "code",
   "execution_count": 9,
   "metadata": {},
   "outputs": [],
   "source": [
    "# Insert data into the history_session_user table\n",
    "with open(file, encoding = 'utf8') as f:\n",
    "    csvreader = csv.reader(f)\n",
    "    next(csvreader) # skip header\n",
    "    for line in csvreader:\n",
    "        ins = \"INSERT INTO history_session_user (user_id, session_id, item_in_session, artist_name, song_title, user_first_name, user_last_name) \"\n",
    "        ins = ins + \"VALUES (%s, %s, %s, %s, %s, %s, %s)\"\n",
    "        session.execute(ins, (int(line[10]), int(line[8]), int(line[3]), line[0], line[9], line[1], line[4]))"
   ]
  },
  {
   "cell_type": "markdown",
   "metadata": {},
   "source": [
    "The history_song_user table is designed to support queries that select based on song title. Specifically: From the music app history files, display the user name (first and last) who listened to the song 'All Hands Against His Own'."
   ]
  },
  {
   "cell_type": "code",
   "execution_count": 10,
   "metadata": {},
   "outputs": [],
   "source": [
    "# Create history_song_user table\n",
    "# Session ID is part of the key to satisfy uniqueness where user listens to same song more than once\n",
    "create = \"CREATE TABLE IF NOT EXISTS history_song_user \"\n",
    "create = create + \"(song_title text, user_id int, session_id int, user_first_name text, user_last_name text, PRIMARY KEY (song_title, user_id))\"\n",
    "try:\n",
    "    session.execute(create)\n",
    "except Exception as e:\n",
    "    print(e)   "
   ]
  },
  {
   "cell_type": "code",
   "execution_count": 11,
   "metadata": {},
   "outputs": [],
   "source": [
    "# Insert data into the history_song_user table\n",
    "with open(file, encoding = 'utf8') as f:\n",
    "    csvreader = csv.reader(f)\n",
    "    next(csvreader) # skip header\n",
    "    for line in csvreader:\n",
    "        ins = \"INSERT INTO history_song_user (user_id, song_title, user_first_name, user_last_name) \"\n",
    "        ins = ins + \"VALUES (%s, %s, %s, %s)\"\n",
    "        session.execute(ins, (int(line[10]), line[9], line[1], line[4]))"
   ]
  },
  {
   "cell_type": "markdown",
   "metadata": {},
   "source": [
    "### Run queries and validate results"
   ]
  },
  {
   "cell_type": "markdown",
   "metadata": {},
   "source": [
    "#### Query 1: Show the artist name, song title and song length which were played 4th in session 338"
   ]
  },
  {
   "cell_type": "code",
   "execution_count": 12,
   "metadata": {},
   "outputs": [
    {
     "name": "stdout",
     "output_type": "stream",
     "text": [
      "Faithless Music Matters (Mark Knight Dub) 495.30731201171875\n"
     ]
    }
   ],
   "source": [
    "query = \"SELECT artist_name, song_title, song_length from history_session WHERE session_id = 338 and item_in_session = 4\"\n",
    "try:\n",
    "    rows = session.execute(query)\n",
    "except Exception as e:\n",
    "    print(e)\n",
    "    \n",
    "for row in rows:\n",
    "    print (row.artist_name, row.song_title, row.song_length)"
   ]
  },
  {
   "cell_type": "markdown",
   "metadata": {},
   "source": [
    "#### ."
   ]
  },
  {
   "cell_type": "markdown",
   "metadata": {},
   "source": [
    "#### Query 2: Return the name of the artist, the song title and the first and last name of the user for userid = 10, sessionid = 182; sort by item in session"
   ]
  },
  {
   "cell_type": "code",
   "execution_count": 13,
   "metadata": {},
   "outputs": [
    {
     "name": "stdout",
     "output_type": "stream",
     "text": [
      "Down To The Bone Keep On Keepin' On Sylvie Cruz\n",
      "Three Drives Greece 2000 Sylvie Cruz\n",
      "Sebastien Tellier Kilometer Sylvie Cruz\n",
      "Lonnie Gordon Catch You Baby (Steve Pitron & Max Sanna Radio Edit) Sylvie Cruz\n"
     ]
    }
   ],
   "source": [
    "query = \"SELECT artist_name, song_title, user_first_name, user_last_name FROM history_session_user WHERE user_id = 10 AND session_id = 182 ORDER BY item_in_session\"\n",
    "try:\n",
    "    rows = session.execute(query)\n",
    "except Exception as e:\n",
    "    print(e)\n",
    "    \n",
    "for row in rows:\n",
    "    print (row.artist_name, row.song_title, row.user_first_name, row.user_last_name)"
   ]
  },
  {
   "cell_type": "markdown",
   "metadata": {},
   "source": [
    "#### ."
   ]
  },
  {
   "cell_type": "markdown",
   "metadata": {},
   "source": [
    "#### Query 3: From the music app history files, display the user name (first and last) who listened to the song 'All Hands Against His Own'."
   ]
  },
  {
   "cell_type": "code",
   "execution_count": 14,
   "metadata": {},
   "outputs": [
    {
     "name": "stdout",
     "output_type": "stream",
     "text": [
      "Jacqueline Lynch\n",
      "Tegan Levine\n",
      "Sara Johnson\n"
     ]
    }
   ],
   "source": [
    "query = \"SELECT user_first_name, user_last_name FROM history_song_user WHERE song_title = 'All Hands Against His Own'\"\n",
    "try:\n",
    "    rows = session.execute(query)\n",
    "except Exception as e:\n",
    "    print(e)\n",
    "    \n",
    "for row in rows:\n",
    "    print (row.user_first_name, row.user_last_name)"
   ]
  },
  {
   "cell_type": "markdown",
   "metadata": {},
   "source": [
    "### Drop tables. Close session and cluster connection"
   ]
  },
  {
   "cell_type": "code",
   "execution_count": 15,
   "metadata": {},
   "outputs": [],
   "source": [
    "drop = \"DROP TABLE history_session\"\n",
    "try:\n",
    "    rows = session.execute(drop)\n",
    "except Exception as e:\n",
    "    print(e)\n",
    "    \n",
    "drop = \"DROP TABLE history_session_user\"\n",
    "try:\n",
    "    rows = session.execute(drop)\n",
    "except Exception as e:\n",
    "    print(e)\n",
    "    \n",
    "drop = \"DROP TABLE history_song_user\"\n",
    "try:\n",
    "    rows = session.execute(drop)\n",
    "except Exception as e:\n",
    "    print(e)"
   ]
  },
  {
   "cell_type": "code",
   "execution_count": 16,
   "metadata": {},
   "outputs": [],
   "source": [
    "session.shutdown()\n",
    "cluster.shutdown()"
   ]
  },
  {
   "cell_type": "code",
   "execution_count": null,
   "metadata": {},
   "outputs": [],
   "source": []
  }
 ],
 "metadata": {
  "kernelspec": {
   "display_name": "Python 3",
   "language": "python",
   "name": "python3"
  },
  "language_info": {
   "codemirror_mode": {
    "name": "ipython",
    "version": 3
   },
   "file_extension": ".py",
   "mimetype": "text/x-python",
   "name": "python",
   "nbconvert_exporter": "python",
   "pygments_lexer": "ipython3",
   "version": "3.6.3"
  }
 },
 "nbformat": 4,
 "nbformat_minor": 4
}
